{
 "cells": [
  {
   "cell_type": "markdown",
   "metadata": {},
   "source": [
    "<img src=\"http://akhavanpour.ir/notebook/images/srttu.gif\" alt=\"SRTTU\" style=\"width: 150px;\"/>"
   ]
  },
  {
   "cell_type": "markdown",
   "metadata": {
    "nbpresent": {
     "id": "588ee1fa-64b5-453b-ade7-8e6b2515821c"
    }
   },
   "source": [
    "# <div style=\"direction:rtl;text-align:right;font-family:B Lotus, B Nazanin, Tahoma\">مشکل بیش‌برازش داده‌ها یا Overfitting و معرفی Dropout</div>"
   ]
  },
  {
   "cell_type": "markdown",
   "metadata": {},
   "source": [
    "## <div style=\"direction:rtl;text-align:right;font-family:B Lotus, B Nazanin, Tahoma\">شبکه بدون Dropout</div>\n",
    "\n"
   ]
  },
  {
   "cell_type": "code",
   "execution_count": 1,
   "metadata": {
    "collapsed": true
   },
   "outputs": [],
   "source": [
    "IMAGE_SIZE = 28"
   ]
  },
  {
   "cell_type": "code",
   "execution_count": 2,
   "metadata": {
    "collapsed": false
   },
   "outputs": [
    {
     "name": "stderr",
     "output_type": "stream",
     "text": [
      "Using TensorFlow backend.\n"
     ]
    }
   ],
   "source": [
    "# 1. Import libraries and modules\n",
    "import keras\n",
    "from keras.models import Sequential\n",
    "from keras.layers import Dense, Dropout, Activation, Flatten\n",
    "from keras.layers import Conv2D, MaxPooling2D\n",
    "import numpy as np\n",
    "from dataset import load_hoda\n",
    "\n",
    "np.random.seed(123)  # for reproducibility\n",
    "\n",
    "# 2. Load pre-shuffled HODA data into train and test sets\n",
    "x_train_original, y_train_original, x_test_original, y_test_original = load_hoda(\n",
    "                                                                training_sample_size=3000,\n",
    "                                                                size=IMAGE_SIZE)\n",
    "\n",
    "# 3. Preprocess input data\n",
    "''' 3.1: input data in numpy array format'''\n",
    "x_train_flat = np.array(x_train_original)\n",
    "x_test_flat = np.array(x_test_original)"
   ]
  },
  {
   "cell_type": "code",
   "execution_count": 3,
   "metadata": {
    "collapsed": false
   },
   "outputs": [],
   "source": [
    "x_train = x_train_flat.reshape(-1,IMAGE_SIZE,IMAGE_SIZE,1)\n",
    "x_test = x_test_flat.reshape(-1,IMAGE_SIZE,IMAGE_SIZE,1)"
   ]
  },
  {
   "cell_type": "code",
   "execution_count": 4,
   "metadata": {
    "collapsed": true
   },
   "outputs": [],
   "source": [
    "input_shape = (IMAGE_SIZE, IMAGE_SIZE, 1)"
   ]
  },
  {
   "cell_type": "code",
   "execution_count": 5,
   "metadata": {
    "collapsed": false
   },
   "outputs": [
    {
     "name": "stdout",
     "output_type": "stream",
     "text": [
      "Epoch 1/35\n",
      "3000/3000 [==============================] - 2s 660us/step - loss: 1.0628 - acc: 0.6570\n",
      "Epoch 2/35\n",
      "3000/3000 [==============================] - 2s 590us/step - loss: 0.3965 - acc: 0.8813\n",
      "Epoch 3/35\n",
      "3000/3000 [==============================] - 2s 576us/step - loss: 0.2749 - acc: 0.9097\n",
      "Epoch 4/35\n",
      "3000/3000 [==============================] - 2s 566us/step - loss: 0.2316 - acc: 0.9210\n",
      "Epoch 5/35\n",
      "3000/3000 [==============================] - 2s 561us/step - loss: 0.1952 - acc: 0.9380\n",
      "Epoch 6/35\n",
      "3000/3000 [==============================] - 2s 567us/step - loss: 0.1856 - acc: 0.9450\n",
      "Epoch 7/35\n",
      "3000/3000 [==============================] - 2s 584us/step - loss: 0.1478 - acc: 0.9537\n",
      "Epoch 8/35\n",
      "3000/3000 [==============================] - 2s 568us/step - loss: 0.1439 - acc: 0.9557\n",
      "Epoch 9/35\n",
      "3000/3000 [==============================] - 2s 643us/step - loss: 0.1320 - acc: 0.9590\n",
      "Epoch 10/35\n",
      "3000/3000 [==============================] - 2s 658us/step - loss: 0.1151 - acc: 0.9637\n",
      "Epoch 11/35\n",
      "3000/3000 [==============================] - 2s 749us/step - loss: 0.1099 - acc: 0.9677\n",
      "Epoch 12/35\n",
      "3000/3000 [==============================] - 2s 650us/step - loss: 0.0903 - acc: 0.9700\n",
      "Epoch 13/35\n",
      "3000/3000 [==============================] - 2s 570us/step - loss: 0.0925 - acc: 0.9743\n",
      "Epoch 14/35\n",
      "3000/3000 [==============================] - 2s 586us/step - loss: 0.0772 - acc: 0.9767\n",
      "Epoch 15/35\n",
      "3000/3000 [==============================] - 2s 581us/step - loss: 0.0766 - acc: 0.9767\n",
      "Epoch 16/35\n",
      "3000/3000 [==============================] - 2s 574us/step - loss: 0.0666 - acc: 0.9783\n",
      "Epoch 17/35\n",
      "3000/3000 [==============================] - 2s 563us/step - loss: 0.0696 - acc: 0.9773\n",
      "Epoch 18/35\n",
      "3000/3000 [==============================] - 2s 564us/step - loss: 0.0669 - acc: 0.9770\n",
      "Epoch 19/35\n",
      "3000/3000 [==============================] - 2s 582us/step - loss: 0.0664 - acc: 0.9800\n",
      "Epoch 20/35\n",
      "3000/3000 [==============================] - 2s 592us/step - loss: 0.0540 - acc: 0.9827\n",
      "Epoch 21/35\n",
      "3000/3000 [==============================] - 2s 588us/step - loss: 0.0484 - acc: 0.9847\n",
      "Epoch 22/35\n",
      "3000/3000 [==============================] - 2s 606us/step - loss: 0.0485 - acc: 0.9863\n",
      "Epoch 23/35\n",
      "3000/3000 [==============================] - 2s 584us/step - loss: 0.0488 - acc: 0.9850\n",
      "Epoch 24/35\n",
      "3000/3000 [==============================] - 2s 667us/step - loss: 0.0435 - acc: 0.9853\n",
      "Epoch 25/35\n",
      "3000/3000 [==============================] - 2s 668us/step - loss: 0.0417 - acc: 0.9887\n",
      "Epoch 26/35\n",
      "3000/3000 [==============================] - 2s 583us/step - loss: 0.0408 - acc: 0.9850\n",
      "Epoch 27/35\n",
      "3000/3000 [==============================] - 2s 621us/step - loss: 0.0359 - acc: 0.9907\n",
      "Epoch 28/35\n",
      "3000/3000 [==============================] - 2s 582us/step - loss: 0.0345 - acc: 0.9877\n",
      "Epoch 29/35\n",
      "3000/3000 [==============================] - 2s 604us/step - loss: 0.0292 - acc: 0.9903\n",
      "Epoch 30/35\n",
      "3000/3000 [==============================] - 2s 607us/step - loss: 0.0348 - acc: 0.9890\n",
      "Epoch 31/35\n",
      "3000/3000 [==============================] - 2s 612us/step - loss: 0.0256 - acc: 0.9933\n",
      "Epoch 32/35\n",
      "3000/3000 [==============================] - 2s 595us/step - loss: 0.0305 - acc: 0.9910\n",
      "Epoch 33/35\n",
      "3000/3000 [==============================] - 2s 601us/step - loss: 0.0262 - acc: 0.9930\n",
      "Epoch 34/35\n",
      "3000/3000 [==============================] - 2s 586us/step - loss: 0.0210 - acc: 0.9953\n",
      "Epoch 35/35\n",
      "3000/3000 [==============================] - 2s 594us/step - loss: 0.0239 - acc: 0.9933\n",
      "200/200 [==============================] - 0s 480us/step\n",
      "\n",
      "Test accuracy: 98.0% \n"
     ]
    }
   ],
   "source": [
    "\n",
    "\n",
    "'''3.2 normalize our data values to the range [0, 1]'''\n",
    "x_train = x_train.astype('float32')\n",
    "x_test = x_test.astype('float32')\n",
    "x_train /= 255\n",
    "x_test /= 255\n",
    "\n",
    "# 4. Preprocess class labels\n",
    "y_train = keras.utils.to_categorical(y_train_original, num_classes=10)\n",
    "y_test = keras.utils.to_categorical(y_test_original, num_classes=10)\n",
    "\n",
    "# 5. Define model architecture\n",
    "model = Sequential()\n",
    "model.add(Conv2D(32, kernel_size=(3,3), activation='relu', input_shape=input_shape))\n",
    "model.add(MaxPooling2D(pool_size=(2, 2)))\n",
    "model.add(Dropout(0.25))\n",
    "model.add(Flatten())\n",
    "model.add(Dense(128, activation='relu'))\n",
    "model.add(Dropout(0.5, seed=123))\n",
    "model.add(Dense(10, activation='softmax'))\n",
    "\n",
    "# 6. Compile model\n",
    "model.compile(loss='categorical_crossentropy',\n",
    "              optimizer=keras.optimizers.Adadelta(),\n",
    "              metrics=['accuracy'])\n",
    "\n",
    "# fit the model\n",
    "model.fit(x_train, y_train, batch_size=128, epochs=35, verbose=1)\n",
    "\n",
    "# measure performance\n",
    "score = model.evaluate(x_test, y_test, verbose=1)\n",
    "print('\\nTest accuracy: {}% '.format(score[1]*100))"
   ]
  },
  {
   "cell_type": "markdown",
   "metadata": {
    "collapsed": true
   },
   "source": [
    "<div class=\"alert alert-block alert-info\">\n",
    "<div style=\"direction:rtl;text-align:right;font-family:B Lotus, B Nazanin, Tahoma\"> دانشگاه تربیت دبیر شهید رجایی<br>مباحث ویژه - آشنایی با بینایی کامپیوتر<br>علیرضا اخوان پور<br>96-97<br>\n",
    "</div>\n",
    "<a href=\"https://www.srttu.edu/\">SRTTU.edu</a> - <a href=\"http://class.vision\">Class.Vision</a> - <a href=\"http://AkhavanPour.ir\">AkhavanPour.ir</a>\n",
    "</div>"
   ]
  },
  {
   "cell_type": "code",
   "execution_count": null,
   "metadata": {
    "collapsed": true
   },
   "outputs": [],
   "source": []
  }
 ],
 "metadata": {
  "anaconda-cloud": {},
  "kernelspec": {
   "display_name": "Python [conda env:virtual_platform]",
   "language": "python",
   "name": "conda-env-virtual_platform-py"
  },
  "language_info": {
   "codemirror_mode": {
    "name": "ipython",
    "version": 3
   },
   "file_extension": ".py",
   "mimetype": "text/x-python",
   "name": "python",
   "nbconvert_exporter": "python",
   "pygments_lexer": "ipython3",
   "version": "3.5.4"
  },
  "nbpresent": {
   "slides": {
    "300ee14f-a043-486e-b274-7ff253907cd7": {
     "id": "300ee14f-a043-486e-b274-7ff253907cd7",
     "prev": "cb74e0bc-4513-4d13-b7f1-14c3078a7927",
     "regions": {
      "26dc3f39-a230-447c-af4c-f5e5b2fb7835": {
       "attrs": {
        "height": 0.8,
        "width": 0.8,
        "x": 0.1,
        "y": 0.1
       },
       "content": {
        "cell": "c58440a5-3f8f-4f37-9c79-6bf766209406",
        "part": "whole"
       },
       "id": "26dc3f39-a230-447c-af4c-f5e5b2fb7835"
      }
     }
    },
    "878aa53a-1444-4100-8f50-7a408191c579": {
     "id": "878aa53a-1444-4100-8f50-7a408191c579",
     "prev": null,
     "regions": {
      "a6c6843a-5ea6-4fbc-b890-3b4b8ae475b3": {
       "attrs": {
        "height": 0.8,
        "width": 0.8,
        "x": 0.1,
        "y": 0.1
       },
       "content": {
        "cell": "588ee1fa-64b5-453b-ade7-8e6b2515821c",
        "part": "whole"
       },
       "id": "a6c6843a-5ea6-4fbc-b890-3b4b8ae475b3"
      }
     }
    },
    "96ffe88e-7b50-43de-afdd-942e564f4e3e": {
     "id": "96ffe88e-7b50-43de-afdd-942e564f4e3e",
     "prev": "878aa53a-1444-4100-8f50-7a408191c579",
     "regions": {
      "b7e52e12-489a-468d-b10c-af2024fd2856": {
       "attrs": {
        "height": 0.8,
        "width": 0.8,
        "x": 0.1,
        "y": 0.1
       },
       "content": {
        "cell": "de829a92-1fb6-44ad-a2c6-fc1001e1f6e1",
        "part": "whole"
       },
       "id": "b7e52e12-489a-468d-b10c-af2024fd2856"
      }
     }
    },
    "cb74e0bc-4513-4d13-b7f1-14c3078a7927": {
     "id": "cb74e0bc-4513-4d13-b7f1-14c3078a7927",
     "prev": "96ffe88e-7b50-43de-afdd-942e564f4e3e",
     "regions": {
      "444878ee-68f3-4abb-acff-a7079b21e86d": {
       "attrs": {
        "height": 0.8,
        "width": 0.8,
        "x": 0.1,
        "y": 0.1
       },
       "content": {
        "cell": "25f3f538-1ee8-4d98-a6bb-14cbeb7a702d",
        "part": "whole"
       },
       "id": "444878ee-68f3-4abb-acff-a7079b21e86d"
      }
     }
    }
   },
   "themes": {}
  }
 },
 "nbformat": 4,
 "nbformat_minor": 1
}
